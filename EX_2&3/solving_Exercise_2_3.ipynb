{
 "cells": [
  {
   "attachments": {},
   "cell_type": "markdown",
   "id": "443262c5",
   "metadata": {},
   "source": [
    "\n",
    "<div style=\" padding: 40px; text-align: center; color: #8e44ad;text-shadow: 2px 2px 0px #f1c40f; \">\n",
    "    <h1 style=\"font-family: 'Roboto', sans-serif;ext-align: center;  font-size: 72px; margin-top: 0; margin-bottom: 20px;\">\n",
    "    Numpy\n",
    "    </h1>\n",
    "</div>"
   ]
  },
  {
   "attachments": {},
   "cell_type": "markdown",
   "id": "57ef7611",
   "metadata": {},
   "source": [
    "<div style=\" padding: 40px; text-align: center; color: #8e44ad;text-shadow: 2px 2px 0px #f1c40f; \">\n",
    "    <h1 style=\"font-family: 'Roboto', sans-serif;ext-align: center;  font-size: 72px; margin-top: 0; margin-bottom: 20px;\">\n",
    "    Exercise 2\n",
    "    </h1>\n",
    "</div>"
   ]
  },
  {
   "attachments": {},
   "cell_type": "markdown",
   "id": "fbe0cc91",
   "metadata": {},
   "source": [
    "![SNOWFALL](ex1.png)\n"
   ]
  },
  {
   "cell_type": "code",
   "execution_count": 1,
   "id": "c9d415ee",
   "metadata": {},
   "outputs": [],
   "source": [
    "# import libraries\n",
    "import numpy as np"
   ]
  },
  {
   "cell_type": "code",
   "execution_count": 7,
   "id": "e7ad4c97",
   "metadata": {},
   "outputs": [
    {
     "name": "stdout",
     "output_type": "stream",
     "text": [
      "7\n"
     ]
    }
   ],
   "source": [
    "# get integer from user\n",
    " \n",
    "try:\n",
    "    num_user = int(input('enter your chosen number : '))\n",
    "    print(num_user)\n",
    "except:\n",
    "    print('there is a problem . check and try again!')\n"
   ]
  },
  {
   "cell_type": "code",
   "execution_count": 8,
   "id": "4163224b",
   "metadata": {},
   "outputs": [
    {
     "data": {
      "text/plain": [
       "array([34, 42, 19, 54, 32, 27, 44])"
      ]
     },
     "execution_count": 8,
     "metadata": {},
     "output_type": "execute_result"
    }
   ],
   "source": [
    "# create an array of random numbers\n",
    "arr = np.random.randint(0,101 , size=num_user)\n",
    "arr"
   ]
  },
  {
   "cell_type": "code",
   "execution_count": 9,
   "id": "f1d6fe1e",
   "metadata": {},
   "outputs": [
    {
     "name": "stdout",
     "output_type": "stream",
     "text": [
      "54\n"
     ]
    }
   ],
   "source": [
    "# find max number of the arry\n",
    "_Max = arr.max()\n",
    "# np.max(arr)\n",
    "print(_Max)"
   ]
  },
  {
   "cell_type": "code",
   "execution_count": 10,
   "id": "e2d584b5",
   "metadata": {},
   "outputs": [
    {
     "name": "stdout",
     "output_type": "stream",
     "text": [
      "Fail\n"
     ]
    }
   ],
   "source": [
    "# Condition check\n",
    "if _Max > 70 :\n",
    "    print('win')\n",
    "\n",
    "else :\n",
    "    print('Fail')"
   ]
  },
  {
   "cell_type": "code",
   "execution_count": 11,
   "id": "d580d2a5",
   "metadata": {},
   "outputs": [
    {
     "name": "stdout",
     "output_type": "stream",
     "text": [
      "fail\n"
     ]
    }
   ],
   "source": [
    "print('win') if _Max > 70 else print('fail')"
   ]
  },
  {
   "attachments": {},
   "cell_type": "markdown",
   "id": "3d63f304",
   "metadata": {},
   "source": [
    "<h4 style=\"text-align:center;\"> 🔎 Numpy Functions You  Needed For Data Science 🧮 </h4>"
   ]
  },
  {
   "attachments": {},
   "cell_type": "markdown",
   "id": "b3460e44",
   "metadata": {},
   "source": [
    "<hr>\n",
    "<h5 style=\"text-align:center; color:red ; font-size: 20px;\">  🟢 linspace 🟢 </h5>\n",
    "<p style=\"text-align:center; font-size: 20px;\">\n",
    "🔸\n",
    "این تابع، یک آرایه شامل تعدادی اعداد فلوت بین دو مقدار داده شده با فاصله مساوی ایجاد می‌کند \n",
    "🔸\n",
    "</p>"
   ]
  },
  {
   "attachments": {},
   "cell_type": "markdown",
   "id": "6d65cf31",
   "metadata": {},
   "source": [
    "<div style=\"text-align:left; font-size: 20px;\">\n",
    "\n",
    "np.linspace(start,end,num)\n",
    "\n",
    "start: starting index\n",
    "\n",
    "end: last index\n",
    "\n",
    "num: number of samples to generate, default = 50.\n",
    "</div>"
   ]
  },
  {
   "cell_type": "code",
   "execution_count": 17,
   "id": "cbcf424e",
   "metadata": {},
   "outputs": [
    {
     "data": {
      "text/plain": [
       "array([ 0. ,  2.5,  5. ,  7.5, 10. ])"
      ]
     },
     "execution_count": 17,
     "metadata": {},
     "output_type": "execute_result"
    }
   ],
   "source": [
    "lin_arr = np.linspace(0 , 10 , 5)\n",
    "lin_arr"
   ]
  },
  {
   "attachments": {},
   "cell_type": "markdown",
   "id": "beb77c4a",
   "metadata": {},
   "source": [
    "<hr>\n",
    "<h5 style=\"text-align:center; color:red ; font-size: 20px;\">  🟢 arange 🟢 </h5>\n",
    "<p style=\"text-align:center; font-size: 20px;\">\n",
    "🔸\n",
    "این تابع، یک آرایه شامل یک دنباله اعداد صحیح از یک مقدار شروع تا یک مقدار پایان با یک فاصله دلخواه ایجاد می‌کند\n",
    "🔸\n",
    "</p>"
   ]
  },
  {
   "attachments": {},
   "cell_type": "markdown",
   "id": "3ea1b8f3",
   "metadata": {},
   "source": [
    "<div style=\"text-align:left; font-size: 20px;\">\n",
    "\n",
    "np.arange(start,stop,step)\n",
    "\n",
    "step: Space between values.\n",
    "\n",
    "\n",
    "\n",
    "</div>"
   ]
  },
  {
   "cell_type": "code",
   "execution_count": 21,
   "id": "5244d86b",
   "metadata": {},
   "outputs": [
    {
     "data": {
      "text/plain": [
       "array([ 0,  5, 10])"
      ]
     },
     "execution_count": 21,
     "metadata": {},
     "output_type": "execute_result"
    }
   ],
   "source": [
    "arang_arr = np.arange(0,11,5)\n",
    "arang_arr"
   ]
  },
  {
   "attachments": {},
   "cell_type": "markdown",
   "id": "2f8bec13",
   "metadata": {},
   "source": [
    "<hr>\n",
    "<h5 style=\"text-align:center; color:red ; font-size: 20px;\">  🟢 Array of zero & one 🟢 </h5>\n",
    "<p style=\"text-align:center; font-size: 20px;\">\n",
    "🔸یک آرایه با ابعاد دلخواه و تمام المان‌های آن برابر با صفر یا یک را ایجاد می‌کند\n",
    "🔸\n",
    "</p>"
   ]
  },
  {
   "attachments": {},
   "cell_type": "markdown",
   "id": "9debfab7",
   "metadata": {},
   "source": [
    "<div style=\"text-align:left; font-size: 20px;\">\n",
    "\n",
    "np.zeros(shape,dtype)\n",
    "\n",
    "np.ones(shape,dtype)\n",
    "\n",
    "\n",
    "shape: shape of the resultant array.\n",
    "\n",
    "dtype: desired data type of resultant array. ‘int’ or default ‘float’\n",
    "\n",
    "\n",
    "\n",
    "\n",
    "</div>"
   ]
  },
  {
   "cell_type": "code",
   "execution_count": 23,
   "id": "438374a7",
   "metadata": {},
   "outputs": [
    {
     "data": {
      "text/plain": [
       "array([[0, 0, 0],\n",
       "       [0, 0, 0]])"
      ]
     },
     "execution_count": 23,
     "metadata": {},
     "output_type": "execute_result"
    }
   ],
   "source": [
    "zero_arr = np.zeros((2,3) , dtype='int')\n",
    "zero_arr"
   ]
  },
  {
   "cell_type": "code",
   "execution_count": 30,
   "id": "667822b0",
   "metadata": {},
   "outputs": [
    {
     "data": {
      "text/plain": [
       "array([[1., 1.],\n",
       "       [1., 1.],\n",
       "       [1., 1.]])"
      ]
     },
     "execution_count": 30,
     "metadata": {},
     "output_type": "execute_result"
    }
   ],
   "source": [
    "one_arr = np.ones((3,2))\n",
    "one_arr"
   ]
  },
  {
   "attachments": {},
   "cell_type": "markdown",
   "id": "c2d761f8",
   "metadata": {},
   "source": [
    "<hr>\n",
    "<h5 style=\"text-align:center; color:red ; font-size: 20px;\">  🟢 Full 🟢 </h5>\n",
    "<p style=\"text-align:center; font-size: 20px;\">\n",
    "🔸یک آرایه شامل مقادیری که در تمامی المان‌های آن تکرار می‌شوند و با ابعاد دلخواه، ایجاد می‌کند\n",
    "🔸\n",
    "</p>"
   ]
  },
  {
   "attachments": {},
   "cell_type": "markdown",
   "id": "aeb131f8",
   "metadata": {},
   "source": [
    "<div style=\"text-align:left; font-size: 20px;\">\n",
    "\n",
    "np.full(shape , fill_value)\n",
    "\n",
    "fill_value: Random value to fill inside the array\n",
    "\n",
    "</div>"
   ]
  },
  {
   "cell_type": "code",
   "execution_count": 34,
   "id": "d45614ed",
   "metadata": {},
   "outputs": [
    {
     "data": {
      "text/plain": [
       "array([[3., 3., 3., 3.],\n",
       "       [3., 3., 3., 3.],\n",
       "       [3., 3., 3., 3.],\n",
       "       [3., 3., 3., 3.]])"
      ]
     },
     "execution_count": 34,
     "metadata": {},
     "output_type": "execute_result"
    }
   ],
   "source": [
    "full_arr = np.full((4,4),fill_value=3 , dtype='float')\n",
    "full_arr"
   ]
  },
  {
   "attachments": {},
   "cell_type": "markdown",
   "id": "92fb22a1",
   "metadata": {},
   "source": [
    "<hr>\n",
    "<h5 style=\"text-align:center; color:red ; font-size: 20px;\">  🟢 Identity 🟢 </h5>\n",
    "<p style=\"text-align:center; font-size: 20px;\">\n",
    "🔸\n",
    "یک ماتریس واحد با ابعاد مشخص ایجاد می کند \n",
    "🔸\n",
    "</p>"
   ]
  },
  {
   "cell_type": "code",
   "execution_count": 35,
   "id": "584896fe",
   "metadata": {},
   "outputs": [
    {
     "data": {
      "text/plain": [
       "array([[1., 0., 0.],\n",
       "       [0., 1., 0.],\n",
       "       [0., 0., 1.]])"
      ]
     },
     "execution_count": 35,
     "metadata": {},
     "output_type": "execute_result"
    }
   ],
   "source": [
    "id_arr = np.identity(3)\n",
    "id_arr"
   ]
  },
  {
   "attachments": {},
   "cell_type": "markdown",
   "id": "6fb43883",
   "metadata": {},
   "source": [
    "<hr>\n",
    "<h5 style=\"text-align:center; color:red ; font-size: 20px;\">  🟢 Min - Max - Mean - Median 🟢 </h5>\n",
    "<p style=\"text-align:center; font-size: 20px;\">\n",
    "\n",
    "</p>"
   ]
  },
  {
   "cell_type": "code",
   "execution_count": 36,
   "id": "6e42200a",
   "metadata": {},
   "outputs": [],
   "source": [
    "arr = np.array([1,1,2,3,3,4,5,6,6,2])"
   ]
  },
  {
   "cell_type": "code",
   "execution_count": 37,
   "id": "b44731f1",
   "metadata": {},
   "outputs": [
    {
     "data": {
      "text/plain": [
       "1"
      ]
     },
     "execution_count": 37,
     "metadata": {},
     "output_type": "execute_result"
    }
   ],
   "source": [
    "np.min(arr)\n",
    "# arr.max()"
   ]
  },
  {
   "cell_type": "code",
   "execution_count": 38,
   "id": "1fcaa1a5",
   "metadata": {},
   "outputs": [
    {
     "data": {
      "text/plain": [
       "6"
      ]
     },
     "execution_count": 38,
     "metadata": {},
     "output_type": "execute_result"
    }
   ],
   "source": [
    "np.max(arr)\n"
   ]
  },
  {
   "cell_type": "code",
   "execution_count": 40,
   "id": "27c1a23e",
   "metadata": {},
   "outputs": [
    {
     "data": {
      "text/plain": [
       "3.3"
      ]
     },
     "execution_count": 40,
     "metadata": {},
     "output_type": "execute_result"
    }
   ],
   "source": [
    "np.mean(arr)"
   ]
  },
  {
   "cell_type": "code",
   "execution_count": 41,
   "id": "3592636e",
   "metadata": {},
   "outputs": [
    {
     "data": {
      "text/plain": [
       "3.0"
      ]
     },
     "execution_count": 41,
     "metadata": {},
     "output_type": "execute_result"
    }
   ],
   "source": [
    "np.median(arr) "
   ]
  },
  {
   "cell_type": "code",
   "execution_count": 43,
   "id": "70104635",
   "metadata": {},
   "outputs": [
    {
     "data": {
      "text/plain": [
       "(array([1, 2, 3, 4, 5, 6]), array([2, 2, 2, 1, 1, 2]))"
      ]
     },
     "execution_count": 43,
     "metadata": {},
     "output_type": "execute_result"
    }
   ],
   "source": [
    "np.unique(arr ,return_counts=True)"
   ]
  },
  {
   "attachments": {},
   "cell_type": "markdown",
   "id": "97cf1430",
   "metadata": {},
   "source": [
    "<hr>\n",
    "<h5 style=\"text-align:center; color:red ; font-size: 20px;\">  🟢 Reshape 🟢 </h5>\n",
    "<p style=\"text-align:center; font-size: 20px;\">\n",
    "🔸\n",
    "یکی از پرکاربردترین توابع  است. آرایه ای حاوی همان داده ها را با شکل جدید برمی گرداند🔸\n",
    "</p>"
   ]
  },
  {
   "cell_type": "code",
   "execution_count": 44,
   "id": "20f86f8e",
   "metadata": {},
   "outputs": [
    {
     "data": {
      "text/plain": [
       "array([[12, 14,  3],\n",
       "       [ 1, 10, 10],\n",
       "       [ 9,  8,  0],\n",
       "       [ 2,  2,  6]])"
      ]
     },
     "execution_count": 44,
     "metadata": {},
     "output_type": "execute_result"
    }
   ],
   "source": [
    "A = np.random.randint(15,size=(4,3))\n",
    "A"
   ]
  },
  {
   "cell_type": "code",
   "execution_count": 46,
   "id": "0d8e005b",
   "metadata": {},
   "outputs": [
    {
     "data": {
      "text/plain": [
       "array([[12, 14,  3,  1],\n",
       "       [10, 10,  9,  8],\n",
       "       [ 0,  2,  2,  6]])"
      ]
     },
     "execution_count": 46,
     "metadata": {},
     "output_type": "execute_result"
    }
   ],
   "source": [
    "A.reshape(3,4)\n",
    "# np.reshape(arr , (4,3))"
   ]
  },
  {
   "cell_type": "code",
   "execution_count": 47,
   "id": "85b25920",
   "metadata": {},
   "outputs": [
    {
     "data": {
      "text/plain": [
       "array([12, 14,  3,  1, 10, 10,  9,  8,  0,  2,  2,  6])"
      ]
     },
     "execution_count": 47,
     "metadata": {},
     "output_type": "execute_result"
    }
   ],
   "source": [
    "A.reshape(-1)  \n",
    "# np.reshape(arr , -1)"
   ]
  },
  {
   "attachments": {},
   "cell_type": "markdown",
   "id": "0c2105d2",
   "metadata": {},
   "source": [
    "<hr>\n",
    "<h5 style=\"text-align:center; color:red ; font-size: 20px;\">  🟢 Clip 🟢 </h5>\n",
    "<p style=\"text-align:center; font-size: 20px;\">\n",
    "🔸برای نگه داشتن مقادیر یک آرایه در یک محدوده استفاده می شود🔸\n",
    "</p>"
   ]
  },
  {
   "cell_type": "code",
   "execution_count": 48,
   "id": "1c9d0181",
   "metadata": {},
   "outputs": [],
   "source": [
    "arr = np.array([0,1,-3,-4,5,6,7,2,3])"
   ]
  },
  {
   "cell_type": "code",
   "execution_count": 49,
   "id": "cce37b87",
   "metadata": {},
   "outputs": [
    {
     "data": {
      "text/plain": [
       "array([1, 1, 1, 1, 5, 5, 5, 2, 3])"
      ]
     },
     "execution_count": 49,
     "metadata": {},
     "output_type": "execute_result"
    }
   ],
   "source": [
    "arr.clip(1,5)"
   ]
  },
  {
   "cell_type": "code",
   "execution_count": 50,
   "id": "193b21e4",
   "metadata": {},
   "outputs": [
    {
     "data": {
      "text/plain": [
       "array([2, 2, 2, 2, 3, 3, 3, 2, 3])"
      ]
     },
     "execution_count": 50,
     "metadata": {},
     "output_type": "execute_result"
    }
   ],
   "source": [
    "arr.clip(2,3)"
   ]
  },
  {
   "cell_type": "code",
   "execution_count": 51,
   "id": "bee7329f",
   "metadata": {},
   "outputs": [
    {
     "data": {
      "text/plain": [
       "array([3, 3, 3, 3, 5, 5, 5, 3, 3])"
      ]
     },
     "execution_count": 51,
     "metadata": {},
     "output_type": "execute_result"
    }
   ],
   "source": [
    "arr.clip(3,5)"
   ]
  },
  {
   "attachments": {},
   "cell_type": "markdown",
   "id": "2a779280",
   "metadata": {},
   "source": [
    "<hr>\n",
    "<h5 style=\"text-align:center; color:red ; font-size: 20px;\">  🟢 Sort 🟢 </h5>\n",
    "<p style=\"text-align:center; font-size: 20px;\">\n",
    "🔸آرایه ها را مرتب می کند🔸\n",
    "</p>"
   ]
  },
  {
   "attachments": {},
   "cell_type": "markdown",
   "id": "78ba2059",
   "metadata": {},
   "source": [
    "<div style=\"text-align:left; font-size: 20px;\">\n",
    "\n",
    "np.sort(arr , kind)\n",
    "\n",
    "kind: Sorting algorithm to use. {‘quicksort’, ‘mergesort’, ‘heapsort’, ‘stable’}\n",
    "\n",
    "\n",
    "\n",
    "\n",
    "\n",
    "\n",
    "</div>"
   ]
  },
  {
   "cell_type": "code",
   "execution_count": 56,
   "id": "c06346a9",
   "metadata": {},
   "outputs": [
    {
     "data": {
      "text/plain": [
       "array([1, 2, 3, 4, 5, 7])"
      ]
     },
     "execution_count": 56,
     "metadata": {},
     "output_type": "execute_result"
    }
   ],
   "source": [
    "arr = np.array([2,3,1,7,4,5])\n",
    "arr = np.sort(arr , kind='heapsort')\n",
    "arr"
   ]
  },
  {
   "attachments": {},
   "cell_type": "markdown",
   "id": "aecb9ff4",
   "metadata": {},
   "source": [
    "<hr>\n",
    "<div style=\"text-align:center;\"  >\n",
    "<a href='https://chistio.ir/%D8%A7%D9%86%D9%88%D8%A7%D8%B9-%D9%85%D8%A7%D8%AA%D8%B1%DB%8C%D8%B3-%D9%88%DB%8C%DA%98%DA%AF%DB%8C%D9%87%D8%A7%DB%8C-%D9%85%D8%AE%D8%AA%D9%84%D9%81-%D8%A2%D9%86-%D9%87%D8%A7/'> آموزش انواع ماتریس استاد کاویانی </a>\n",
    "\n",
    "<a href='https://levelup.gitconnected.com/50-numpy-functions-you-really-needed-for-data-science-fa09e8eb0cf0'> source </a>\n",
    "</div>\n",
    "\n",
    "\n"
   ]
  },
  {
   "attachments": {},
   "cell_type": "markdown",
   "id": "1f6a8d7c",
   "metadata": {},
   "source": [
    "<div style=\" padding: 40px; text-align: center; color: #8e44ad;text-shadow: 2px 2px 0px #f1c40f; \">\n",
    "    <h1 style=\"font-family: 'Roboto', sans-serif;ext-align: center;  font-size: 72px; margin-top: 0; margin-bottom: 20px;\">\n",
    "    Exercise 3\n",
    "    </h1>\n",
    "</div>"
   ]
  },
  {
   "attachments": {},
   "cell_type": "markdown",
   "id": "37e1c49e",
   "metadata": {},
   "source": [
    "![ex2](ex2.png)"
   ]
  },
  {
   "attachments": {},
   "cell_type": "markdown",
   "id": "00dfd155",
   "metadata": {},
   "source": [
    "<hr>\n",
    "<h5 style=\"text-align:center; color:red ; font-size: 20px;\">  🟢 Quick Sort 🟢 </h5>\n",
    "<p style=\"text-align:right; font-size: 20px;\">\n",
    " یک الگوریتم مرتب‌سازی بازگشتی است که از روش تقسیم و حل استفاده می‌کند. الگوریتم به گونه‌ای طراحی شده است که با استفاده از تابع پایوت، آرایه را به دو بخش تقسیم می‌کند: عناصری که از مقدار پایوت کوچکتر هستند و عناصری هستند که بزرگتر یا مساوی پایوت هستند. سپس هر بخش را به صورت بازگشتی مرتب می کند\n",
    "</p>\n",
    "\n"
   ]
  },
  {
   "attachments": {},
   "cell_type": "markdown",
   "id": "8c884707",
   "metadata": {},
   "source": [
    "![quick](sort1.png)"
   ]
  },
  {
   "cell_type": "code",
   "execution_count": 57,
   "id": "278d609f",
   "metadata": {},
   "outputs": [
    {
     "data": {
      "text/plain": [
       "array([ 0,  1,  2,  4,  5,  6,  6,  9, 10, 14, 25])"
      ]
     },
     "execution_count": 57,
     "metadata": {},
     "output_type": "execute_result"
    }
   ],
   "source": [
    "not_sorted = np.array([6,6,2,4,5,1,0,10,9,14,25])\n",
    "np.sort(not_sorted , kind='quicksort')\n"
   ]
  },
  {
   "attachments": {},
   "cell_type": "markdown",
   "id": "61488618",
   "metadata": {},
   "source": [
    "<hr>\n",
    "<h5 style=\"text-align:center; color:red ; font-size: 20px;\">  🟢 Heap Sort 🟢 </h5>\n",
    "<p style=\"text-align:right; font-size: 20px;\">\n",
    "الگوریتم هیپ به این صورت عمل می‌کند که ابتدا یک هیپ ساخته شده و سپس با حذف ریشه و برگرداندن آن به مکان مناسب خود در هیپ عناصر را به ترتیب مرتب می‌کند\n",
    "</p>\n",
    "\n"
   ]
  },
  {
   "attachments": {},
   "cell_type": "markdown",
   "id": "797e1500",
   "metadata": {},
   "source": [
    "![heap](heap1.png)"
   ]
  },
  {
   "attachments": {},
   "cell_type": "markdown",
   "id": "d4e77050",
   "metadata": {},
   "source": [
    "![heap](heap2.png)"
   ]
  },
  {
   "attachments": {},
   "cell_type": "markdown",
   "id": "778269dc",
   "metadata": {},
   "source": [
    "![heap](heap3.png)"
   ]
  },
  {
   "attachments": {},
   "cell_type": "markdown",
   "id": "d58c44ea",
   "metadata": {},
   "source": [
    "![heap](heap4.png)"
   ]
  },
  {
   "attachments": {},
   "cell_type": "markdown",
   "id": "0df41879",
   "metadata": {},
   "source": [
    "![heap](heap5.png)"
   ]
  },
  {
   "attachments": {},
   "cell_type": "markdown",
   "id": "675713e1",
   "metadata": {},
   "source": [
    "![heap](heap7.png)"
   ]
  },
  {
   "cell_type": "code",
   "execution_count": 58,
   "id": "a307fa6f",
   "metadata": {},
   "outputs": [
    {
     "data": {
      "text/plain": [
       "array([ 0,  1,  2,  4,  5,  6,  6,  9, 10, 14, 25])"
      ]
     },
     "execution_count": 58,
     "metadata": {},
     "output_type": "execute_result"
    }
   ],
   "source": [
    "not_sorted = np.array([6,6,2,4,5,1,0,10,9,14,25])\n",
    "np.sort(not_sorted , kind='heapsort')"
   ]
  },
  {
   "attachments": {},
   "cell_type": "markdown",
   "id": "10077c4f",
   "metadata": {},
   "source": [
    "<hr>\n",
    "<h5 style=\"text-align:center; color:red ; font-size: 20px;\">  🟢 Merge Sort 🟢 </h5>\n",
    "\n",
    "\n",
    "\n",
    "\n"
   ]
  },
  {
   "attachments": {},
   "cell_type": "markdown",
   "id": "383a4481",
   "metadata": {},
   "source": [
    "![merge](MergeSort.png)"
   ]
  },
  {
   "cell_type": "code",
   "execution_count": 59,
   "id": "6da9dec0",
   "metadata": {},
   "outputs": [
    {
     "data": {
      "text/plain": [
       "array([ 0,  1,  2,  4,  5,  6,  6,  9, 10, 14, 25])"
      ]
     },
     "execution_count": 59,
     "metadata": {},
     "output_type": "execute_result"
    }
   ],
   "source": [
    "not_sorted = np.array([6,6,2,4,5,1,0,10,9,14,25])\n",
    "np.sort(not_sorted , kind='mergesort')"
   ]
  },
  {
   "cell_type": "code",
   "execution_count": null,
   "id": "7fbfb2dd",
   "metadata": {},
   "outputs": [],
   "source": []
  }
 ],
 "metadata": {
  "kernelspec": {
   "display_name": "Python 3 (ipykernel)",
   "language": "python",
   "name": "python3"
  },
  "language_info": {
   "codemirror_mode": {
    "name": "ipython",
    "version": 3
   },
   "file_extension": ".py",
   "mimetype": "text/x-python",
   "name": "python",
   "nbconvert_exporter": "python",
   "pygments_lexer": "ipython3",
   "version": "3.9.12"
  }
 },
 "nbformat": 4,
 "nbformat_minor": 5
}
